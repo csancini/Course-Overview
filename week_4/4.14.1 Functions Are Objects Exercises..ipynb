{
 "cells": [
  {
   "cell_type": "markdown",
   "metadata": {},
   "source": [
    "The following code defines a list of names and also contains a header for the function, best.  This function should take two arguments: a function, score, and a list of strings, names.  Fill in the function so that it applies the score function to each string in names and returns the one with the highest score. If there are ties in the list, your function should return the first item with the maximum score."
   ]
  },
  {
   "cell_type": "code",
   "execution_count": 19,
   "metadata": {},
   "outputs": [],
   "source": [
    "def best(score, names):\n",
    "    high = 0\n",
    "    result = \"\" \n",
    "    for name in names:\n",
    "        new_score = score(name)\n",
    "        if new_score > high:\n",
    "            high = new_score\n",
    "            result = name\n",
    "    return result\n",
    "\n",
    "names = [\"Ben\", \"April\", \"Zaber\", \"Alexis\", \"McJagger\", \"J.J.\", \"Madonna\"]"
   ]
  },
  {
   "cell_type": "markdown",
   "metadata": {},
   "source": [
    "Next, define a function, number_of_vowels, that returns the number of vowels in a string.  Use it with your best function to find the name in names with the most vowels."
   ]
  },
  {
   "cell_type": "code",
   "execution_count": 20,
   "metadata": {},
   "outputs": [
    {
     "name": "stdout",
     "output_type": "stream",
     "text": [
      "Alexis\n"
     ]
    }
   ],
   "source": [
    "def number_of_vowels(w):\n",
    "    vowels = (\"a\",\"e\",\"i\",\"o\",\"u\")\n",
    "    word = w.lower()\n",
    "    count = 0\n",
    "    for i in range(len(word)):\n",
    "        if word[i] in vowels:\n",
    "            count += 1\n",
    "    return count\n",
    "\n",
    "print(best(number_of_vowels, names))"
   ]
  },
  {
   "cell_type": "markdown",
   "metadata": {},
   "source": [
    "Next, pass a lambda function into your best function to find the name in names with the highest number of a's."
   ]
  },
  {
   "cell_type": "code",
   "execution_count": 22,
   "metadata": {},
   "outputs": [
    {
     "name": "stdout",
     "output_type": "stream",
     "text": [
      "Madonna\n"
     ]
    }
   ],
   "source": [
    "print(best(lambda word: sum([1 for l in list(word) if l == \"a\"]),names))"
   ]
  }
 ],
 "metadata": {
  "kernelspec": {
   "display_name": "Python 3",
   "language": "python",
   "name": "python3"
  },
  "language_info": {
   "codemirror_mode": {
    "name": "ipython",
    "version": 3
   },
   "file_extension": ".py",
   "mimetype": "text/x-python",
   "name": "python",
   "nbconvert_exporter": "python",
   "pygments_lexer": "ipython3",
   "version": "3.6.4"
  }
 },
 "nbformat": 4,
 "nbformat_minor": 1
}
