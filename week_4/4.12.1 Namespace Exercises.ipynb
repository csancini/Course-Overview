{
 "cells": [
  {
   "cell_type": "markdown",
   "metadata": {},
   "source": [
    "1. The following script defines a list of customer orders.  Each item in the list is a tuple containing the name of the item, the number requested, and the price per item.\n",
    "\n",
    "Fill in just the process_order function below without changing any other code. This function should remove one of the elements of the order list and print a nice message about it. Finally, make sure that the final print statement correctly displays the total price for the entire list."
   ]
  },
  {
   "cell_type": "code",
   "execution_count": 9,
   "metadata": {},
   "outputs": [
    {
     "name": "stdout",
     "output_type": "stream",
     "text": [
      "Item processed: 1 antacid with an unit price of 5.33 and a total of 5.33\n",
      "Item processed: 3 sour bites with an unit price of 2.33 and a total of 6.99\n",
      "Item processed: 1 gummy bears with an unit price of 1.99 and a total of 1.99\n",
      "Item processed: 4 oranges with an unit price of 3.22 and a total of 12.88\n",
      "total price:  27.19\n"
     ]
    }
   ],
   "source": [
    "total = 0\n",
    "\n",
    "def process_order(x_list):\n",
    "    global total\n",
    "    item = x_list.pop()\n",
    "    print(\"Item processed:\", item[1], item[0], \"with an unit price of\", item[2], \"and a total of\", item[1] * item[2])\n",
    "    total += item[1] * item[2]\n",
    "    \n",
    "\n",
    "\n",
    "x = [(\"oranges\", 4, 3.22),(\"gummy bears\", 1, 1.99),(\"sour bites\", 3, 2.33), (\"antacid\", 1, 5.33)]\n",
    "\n",
    "while len(x) > 0:\n",
    "    process_order(x)\n",
    "    \n",
    "print(\"total price: \", total)"
   ]
  }
 ],
 "metadata": {
  "kernelspec": {
   "display_name": "Python 3",
   "language": "python",
   "name": "python3"
  },
  "language_info": {
   "codemirror_mode": {
    "name": "ipython",
    "version": 3
   },
   "file_extension": ".py",
   "mimetype": "text/x-python",
   "name": "python",
   "nbconvert_exporter": "python",
   "pygments_lexer": "ipython3",
   "version": "3.6.4"
  }
 },
 "nbformat": 4,
 "nbformat_minor": 1
}
