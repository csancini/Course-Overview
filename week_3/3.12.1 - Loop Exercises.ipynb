{
 "cells": [
  {
   "cell_type": "markdown",
   "metadata": {},
   "source": [
    "1. Write a script that prompts the user for his or her name. Using a loop that counts downward, print the name with the letters reversed. You may use `s.lower()` and `s.upper()` to change a string `s` to lowercase and uppercase letters.\n",
    "```\n",
    "Enter your name: Paul \n",
    "Luap\n",
    "```\n",
    "If the name is the same forward and backwards, print \"Palindrome!\" on the next line.\n",
    "```\n",
    "Enter your name: Ana \n",
    "Ana \n",
    "Palindrome!\n",
    "```"
   ]
  },
  {
   "cell_type": "code",
   "execution_count": 3,
   "metadata": {},
   "outputs": [
    {
     "name": "stdout",
     "output_type": "stream",
     "text": [
      "Enter your name: Carlos\n",
      "Solrac\n",
      "Solrac\n"
     ]
    }
   ],
   "source": [
    "name = input(\"Enter your name: \")\n",
    "\n",
    "#print(name[::-1].capitalize())\n",
    "\n",
    "new_name = \"\"\n",
    "for i in range(len(name)-1, -1, -1):\n",
    "    new_name += name[i]\n",
    "\n",
    "print(new_name.capitalize())\n",
    "\n",
    "if(name.lower() == new_name.lower()):\n",
    "    print(\"Palindrome!\")\n",
    "    "
   ]
  },
  {
   "cell_type": "markdown",
   "metadata": {},
   "source": [
    "2. Write a script that prompts the user for an integer tree size, then displays a number tree as shown below:\n",
    "\n",
    "Enter a size: 5 \n",
    "```\n",
    "    1\n",
    "   121\n",
    "  12321\n",
    " 1234321 \n",
    "123454321\n",
    "```"
   ]
  },
  {
   "cell_type": "code",
   "execution_count": 58,
   "metadata": {},
   "outputs": [
    {
     "name": "stdout",
     "output_type": "stream",
     "text": [
      "Enter a size: 9\n",
      "        1         \n",
      "       121        \n",
      "      12321       \n",
      "     1234321      \n",
      "    123454321     \n",
      "   12345654321    \n",
      "  1234567654321   \n",
      " 123456787654321  \n",
      "12345678987654321 \n"
     ]
    }
   ],
   "source": [
    "n = int(input(\"Enter a size: \"))\n",
    "\n",
    "size = 2 * n\n",
    "\n",
    "msg = [\"1\"]\n",
    "print(\"\".join(msg).center(size))\n",
    "for i in range(2, n + 1):\n",
    "    msg.insert(i-1, msg[i-2])\n",
    "    msg.insert(i-1, str(i))\n",
    "    print(\"\".join(msg).center(size))"
   ]
  },
  {
   "cell_type": "markdown",
   "metadata": {},
   "source": [
    "3. The Fibonacci numbers begin with 1, 1.  After the first two numbers, each number is the sum of the previous two. 1 + 1 = 2, so 2 is the third number. Then 1 + 2 = 3, so 3 is the next one, and so on. Write a script that prompts the user for a number, then prints all the Fibonacci numbers that are less than or equal to the input, in order.\n",
    "\n",
    "```\n",
    "Enter a number: 15\n",
    "1 1 2 3 5 8 13\n",
    "```"
   ]
  },
  {
   "cell_type": "code",
   "execution_count": 59,
   "metadata": {},
   "outputs": [
    {
     "name": "stdout",
     "output_type": "stream",
     "text": [
      "Enter a number: 50\n",
      "1 1 2 3 5 8 13 21 34 "
     ]
    }
   ],
   "source": [
    "num = int(input(\"Enter a number: \"))\n",
    "\n",
    "a = 1\n",
    "print(a, end=\" \")\n",
    "b = 1\n",
    "print(b, end=\" \")\n",
    "last = a + b\n",
    "\n",
    "while last < num:\n",
    "    print(last, end=\" \")\n",
    "    a = b\n",
    "    b = last\n",
    "    last = a + b"
   ]
  },
  {
   "cell_type": "markdown",
   "metadata": {},
   "source": [
    "Pascal's triangle is a triangle of numbers that is computed as follows.  The first row contains a 1.  Each row after that begins and ends with a 1, and every other number is the sum of the two numbers above it.  The first six rows of Pascal's triangle are shown below.\n",
    "```\n",
    "      1\n",
    "     1 1\n",
    "    1 2 1\n",
    "  1  3 3  1\n",
    " 1 4  6  4 1\n",
    "1 5 10 10 5 1\n",
    "```\n",
    "Write a script to compute the *n*th row of Pascal's triangle."
   ]
  },
  {
   "cell_type": "code",
   "execution_count": 73,
   "metadata": {},
   "outputs": [
    {
     "name": "stdout",
     "output_type": "stream",
     "text": [
      "Enter a number: 8\n",
      "                               1                                \n",
      "                              1 1                               \n",
      "                             1 2 1                              \n",
      "                            1 3 3 1                             \n",
      "                           1 4 6 4 1                            \n",
      "                         1 5 10 10 5 1                          \n",
      "                        1 6 15 20 15 6 1                        \n",
      "                      1 7 21 35 35 21 7 1                       \n"
     ]
    }
   ],
   "source": [
    "num = int(input(\"Enter a number: \"))\n",
    "\n",
    "previous_layer = [1]\n",
    "print(\"1\".center(num**2))\n",
    "\n",
    "for i in range(num - 1):\n",
    "    next_layer = []\n",
    "    for j in range(1, i + 1):\n",
    "        next_layer.append(previous_layer[j-1] + previous_layer[j])\n",
    "    next_layer.insert(0, 1)\n",
    "    next_layer.append(1)\n",
    "\n",
    "    print(\" \".join([str(n) for n in next_layer]).center(num**2))\n",
    "    previous_layer = next_layer"
   ]
  }
 ],
 "metadata": {
  "kernelspec": {
   "display_name": "Python 3",
   "language": "python",
   "name": "python3"
  },
  "language_info": {
   "codemirror_mode": {
    "name": "ipython",
    "version": 3
   },
   "file_extension": ".py",
   "mimetype": "text/x-python",
   "name": "python",
   "nbconvert_exporter": "python",
   "pygments_lexer": "ipython3",
   "version": "3.6.4"
  }
 },
 "nbformat": 4,
 "nbformat_minor": 1
}
